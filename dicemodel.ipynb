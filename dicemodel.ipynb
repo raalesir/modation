{
 "cells": [
  {
   "cell_type": "code",
   "execution_count": 1,
   "id": "10ef0cc9",
   "metadata": {},
   "outputs": [
    {
     "data": {
      "text/html": [
       "<pre style=\"white-space:pre;overflow-x:auto;line-height:normal;font-family:Menlo,'DejaVu Sans Mono',consolas,'Courier New',monospace\">Manim Community <span style=\"color: #008000; text-decoration-color: #008000\">v0.14.0</span>\n",
       "\n",
       "</pre>\n"
      ],
      "text/plain": [
       "Manim Community \u001b[32mv0.\u001b[0m\u001b[32m14.0\u001b[0m\n",
       "\n"
      ]
     },
     "metadata": {},
     "output_type": "display_data"
    }
   ],
   "source": [
    "from manim import *\n",
    "    \n",
    "import numpy as np"
   ]
  },
  {
   "cell_type": "code",
   "execution_count": 2,
   "id": "d4ce88df",
   "metadata": {},
   "outputs": [],
   "source": [
    "config.media_width = \"100%\"\n",
    "\n"
   ]
  },
  {
   "cell_type": "code",
   "execution_count": 3,
   "id": "20b217bb",
   "metadata": {},
   "outputs": [
    {
     "name": "stdout",
     "output_type": "stream",
     "text": [
      "env: LIBGS=/usr/local/Cellar/ghostscript/9.53.3/lib/libgs.dylib\n",
      "bgcolor    background color special\n",
      "color      complete support of color specials\n",
      "dvisvgm    special set for embedding raw SVG snippets\n",
      "em         line drawing statements of the emTeX special set\n",
      "html       hyperref specials\n",
      "papersize  special to set the page size\n",
      "pdf        PDF hyperlink, font map, and pagesize specials\n",
      "ps         dvips PostScript specials\n",
      "tpic       TPIC specials\n"
     ]
    }
   ],
   "source": [
    "%env LIBGS=/usr/local/Cellar/ghostscript/9.53.3/lib/libgs.dylib\n",
    "!dvisvgm -l"
   ]
  },
  {
   "cell_type": "code",
   "execution_count": null,
   "id": "70180de2",
   "metadata": {},
   "outputs": [],
   "source": [
    "class  ModellDice:\n",
    "    \"\"\"\n",
    "    dice modelling a fair cubic dice\n",
    "    \"\"\"\n",
    "#     n_sides = 6\n",
    "    \n",
    "    def __init__(self, n_dices, *args, **kwargs):\n",
    "        self.n_dices  = n_dices\n",
    "        self.values = list(range(1,7))\n",
    "        \n",
    "    def __repr__(self):\n",
    "        return \"modelling %i dices\"%self.n_dices\n",
    "    \n",
    "    def _generate_possible_microstates(self):\n",
    "        \"\"\"\n",
    "        generating possible microstates after throwing 2 dices with corresponding sum\n",
    "        \"\"\"\n",
    "        \n",
    "        res = []\n",
    "        for i in self.values:\n",
    "            for j in self.values:\n",
    "                res.append((i,j, i+j))\n",
    "            \n",
    "        return res"
   ]
  },
  {
   "cell_type": "code",
   "execution_count": null,
   "id": "0f7def4e",
   "metadata": {},
   "outputs": [],
   "source": [
    "system = ModellDice(n_dices=2)\n",
    "system"
   ]
  },
  {
   "cell_type": "code",
   "execution_count": null,
   "id": "944a7703",
   "metadata": {},
   "outputs": [],
   "source": [
    "system._generate_possible_microstates()"
   ]
  },
  {
   "cell_type": "code",
   "execution_count": null,
   "id": "e02eca21",
   "metadata": {},
   "outputs": [],
   "source": [
    "[[el for el in range(5)] for i in range(2)]"
   ]
  },
  {
   "cell_type": "code",
   "execution_count": 58,
   "id": "150e6a2c",
   "metadata": {},
   "outputs": [
    {
     "data": {
      "text/html": [
       "<video src=\"media/jupyter/SingleLineColor@2022-02-07@12-14-52.mp4\" controls autoplay loop style=\"max-width: 100%;\"  >\n",
       "      Your browser does not support the <code>video</code> element.\n",
       "    </video>"
      ],
      "text/plain": [
       "<IPython.core.display.Video object>"
      ]
     },
     "metadata": {},
     "output_type": "display_data"
    }
   ],
   "source": [
    "%%manim -ql -v WARNING SingleLineColor\n",
    "\n",
    "\n",
    "class SingleLineColor(Scene):\n",
    "    def construct(self):\n",
    "        text = MarkupText(f'all in red <span fgcolor=\"{YELLOW}\">except this</span>', color=RED)\n",
    "        text3a = MarkupText(f\"\"\"<span fgcolor='{YELLOW}'>Johan Elf</span>\\n<span fgcolor=\"{RED}\">David Fange</span>\\n<span fgcolor=\"{ORANGE}\">Spartak Zikrin</span>\n",
    "                            <span fgcolor=\"{BLUE}\">Konrad Gras</span>\n",
    "                            <span fgcolor=\"{GREEN}\">Dvir Schirman</span>\n",
    "                            <span fgcolor=\"{WHITE}\">Alexey Siretskiy</span>\"\"\",  font=\"AppleGothic\")\n",
    "        self.add(text3a)\n",
    "        self.wait(1)"
   ]
  },
  {
   "cell_type": "code",
   "execution_count": 62,
   "id": "8ecea1e6",
   "metadata": {},
   "outputs": [
    {
     "name": "stdout",
     "output_type": "stream",
     "text": [
      "[-1.72732295  1.12049009 -0.11059601  0.38877435] (Text('Chromosome Structure Project'), Tex('$$\\\\int_{-\\\\infty}^{\\\\infty}e^{-x^2}dx=\\\\sqrt{\\\\pi}$$'))\n"
     ]
    },
    {
     "name": "stderr",
     "output_type": "stream",
     "text": [
      "                                                                                                                                                       \r"
     ]
    },
    {
     "name": "stdout",
     "output_type": "stream",
     "text": [
      "[ 0.97952202  1.48771901 -1.49023267 -1.92540123] (Text('Lab Group Meeting'), Tex(\"$f'(x) = \\\\lim_{\\\\Delta x\\\\to 0}\\\\frac{f(x+\\\\Delta x) - f(x)}{\\\\Delta x}$\"))\n"
     ]
    },
    {
     "name": "stderr",
     "output_type": "stream",
     "text": [
      "                                                                                                                                                       \r"
     ]
    },
    {
     "name": "stdout",
     "output_type": "stream",
     "text": [
      "[-1.04608091  1.33431418 -1.98512213 -0.36576289] (Text('Gentle intro into modelling...'), Code(VGroup of 2 submobjects, Paragraph of 12 submobjects, Paragraph of 12 submobjects))\n"
     ]
    },
    {
     "name": "stderr",
     "output_type": "stream",
     "text": [
      "                                                                                                                                                       \r"
     ]
    },
    {
     "name": "stdout",
     "output_type": "stream",
     "text": [
      "[-1.41416992  1.1034234  -1.8841574   0.56223317] (MarkupText('<span fgcolor=\\'#FFFF00\\'>Johan Elf</span>\\n<span fgcolor=\"#FC6255\">David Fange</span>\\n<span fgcolor=\"#FF862F\">Spartak Zikrin</span>\\n                            <span fgcolor=\"#58C4DD\">Konrad Gras</span>\\n                            <span fgcolor=\"#83C167\">Dvir Schirman</span>\\n                            <span fgcolor=\"#FFFFFF\">Alexey Siretskiy</span>'), Tex('$$e = \\\\sum_{i=0}^{\\\\infty}\\\\frac{1}{n!}$$'))\n"
     ]
    },
    {
     "name": "stderr",
     "output_type": "stream",
     "text": [
      "                                                                                                                                                       \r"
     ]
    },
    {
     "name": "stdout",
     "output_type": "stream",
     "text": [
      "[-1.35701846  1.18905703  1.91321342  0.07755065] (Text('08.02.22'), Tex('\\n        $$\\\\mathbf{J(f)} =\\n\\\\begin{bmatrix}\\n\\\\nabla^T f_1 \\\\\\\\\\n\\\\vdots\\\\\\\\\\n\\\\nabla^T f_m \\\\\\\\\\n\\\\end{bmatrix}\\n=\\n\\\\begin{bmatrix}\\n  \\\\frac{\\\\partial f_1}{\\\\partial x_1} & \\n    \\\\frac{\\\\partial f_1}{\\\\partial x_2} &\\\\cdots & \\n    \\\\frac{\\\\partial f_1}{\\\\partial x_n} \\\\\\\\[1ex] % <-- 1ex more space between rows of matrix\\n  \\\\frac{\\\\partial f_2}{\\\\partial x_1} & \\n    \\\\frac{\\\\partial f_2}{\\\\partial x_2} & \\\\cdots& \\n    \\\\frac{\\\\partial f_2}{\\\\partial x_n} \\\\\\\\\\n \\\\vdots & \\\\vdots &\\\\ddots & \\\\vdots & \\\\\\\\\\n  \\\\frac{\\\\partial f_m}{\\\\partial x_1} & \\n    \\\\frac{\\\\partial f_m}{\\\\partial x_2} &\\\\cdots &\\n    \\\\frac{\\\\partial f_m}{\\\\partial x_n}\\n\\\\end{bmatrix}$$'))\n"
     ]
    },
    {
     "name": "stderr",
     "output_type": "stream",
     "text": [
      "                                                                                                                                                       \r"
     ]
    },
    {
     "data": {
      "text/html": [
       "<video src=\"media/jupyter/Slide0@2022-02-07@12-37-34.mp4\" controls autoplay loop style=\"max-width: 100%;\"  >\n",
       "      Your browser does not support the <code>video</code> element.\n",
       "    </video>"
      ],
      "text/plain": [
       "<IPython.core.display.Video object>"
      ]
     },
     "metadata": {},
     "output_type": "display_data"
    }
   ],
   "source": [
    "%%manim -qh -v WARNING Slide0\n",
    "\n",
    "\n",
    "config.media_width = \"100%\"\n",
    "\n",
    "\n",
    "class Slide0(Scene):\n",
    "    \n",
    "    def construct(self):\n",
    "\n",
    "# def intro(self):\n",
    "#         with register_font(\"Comic Sans MS.ttf\"):\n",
    "#         title = Text(\"Cracking fork plots\", color=BLUE, font=\"sans-serif\")\n",
    "#         author = Text(\"Alexey  Siretskiy\", font_size=30).to_edge(RIGHT+DOWN)\n",
    "        \n",
    "        text_pairs = []\n",
    "        text1a = Text(\"Chromosome Structure Project\", font=\"sans-serif\")\n",
    "        text1b = Tex(r\"$$\\int_{-\\infty}^{\\infty}e^{-x^2}dx=\\sqrt{\\pi}$$\", color=BLUE_A, font_size=80)\n",
    "\n",
    "        \n",
    "        text2a = Text(\"Lab Group Meeting\",font=\"Chalkboard\")\n",
    "        text2b = Tex(r\"$f'(x) = \\lim_{\\Delta x\\to 0}\\frac{f(x+\\Delta x) - f(x)}{\\Delta x}$\",font_size=60, color=YELLOW )\n",
    "        \n",
    "        \n",
    "        \n",
    "        text3a = Text(\"Gentle intro into modelling...\", font='Snell Roundhand' )\n",
    "        code = r\"\"\"\n",
    "    class  ModellDice:\n",
    "        \n",
    "        def __init__(self, n_dices, *args, **kwargs):\n",
    "            self.n_dices  = n_dices\n",
    "            self.values = list(range(1,7))\n",
    "\n",
    "        def __repr__(self):\n",
    "            return \"modelling %i dices\"%self.n_dices\n",
    "\n",
    "        def _generate_possible_microstates(self):\n",
    "            pass\n",
    "            \"\"\"\n",
    "        text3b = Code(code=code, tab_width=4, background=\"window\", font='American Typewriter',\n",
    "                                language=\"Python\",)\n",
    "        \n",
    "        \n",
    "#         text3a = Text(\"3d structure is complicated... \", font=\"AppleGothic\")\n",
    "        text4b = Tex(r\"$$e = \\sum_{i=0}^{\\infty}\\frac{1}{n!}$$\", font_size=80)\n",
    "        \n",
    "\n",
    "#         text = MarkupText(f'all in red <span fgcolor=\"{YELLOW}\">except this</span>', color=RED)\n",
    "\n",
    "        text4a = MarkupText(f\"\"\"<span fgcolor='{YELLOW}'>Johan Elf</span>\\n<span fgcolor=\"{RED}\">David Fange</span>\\n<span fgcolor=\"{ORANGE}\">Spartak Zikrin</span>\n",
    "                            <span fgcolor=\"{BLUE}\">Konrad Gras</span>\n",
    "                            <span fgcolor=\"{GREEN}\">Dvir Schirman</span>\n",
    "                            <span fgcolor=\"{WHITE}\">Alexey Siretskiy</span>\"\"\",  font=\"AppleGothic\")\n",
    "        \n",
    "        \n",
    "        text5a = Text(\"08.02.22\", font=\"Menlo\")\n",
    "        text5b = Tex(r\"\"\"\n",
    "        $$\\mathbf{J(f)} =\n",
    "\\begin{bmatrix}\n",
    "\\nabla^T f_1 \\\\\n",
    "\\vdots\\\\\n",
    "\\nabla^T f_m \\\\\n",
    "\\end{bmatrix}\n",
    "=\n",
    "\\begin{bmatrix}\n",
    "  \\frac{\\partial f_1}{\\partial x_1} & \n",
    "    \\frac{\\partial f_1}{\\partial x_2} &\\cdots & \n",
    "    \\frac{\\partial f_1}{\\partial x_n} \\\\[1ex] % <-- 1ex more space between rows of matrix\n",
    "  \\frac{\\partial f_2}{\\partial x_1} & \n",
    "    \\frac{\\partial f_2}{\\partial x_2} & \\cdots& \n",
    "    \\frac{\\partial f_2}{\\partial x_n} \\\\\n",
    " \\vdots & \\vdots &\\ddots & \\vdots & \\\\\n",
    "  \\frac{\\partial f_m}{\\partial x_1} & \n",
    "    \\frac{\\partial f_m}{\\partial x_2} &\\cdots &\n",
    "    \\frac{\\partial f_m}{\\partial x_n}\n",
    "\\end{bmatrix}$$\"\"\")\n",
    "\n",
    "\n",
    "        text_pairs.append((text1a, text1b))\n",
    "        text_pairs.append((text2a, text2b))\n",
    "        text_pairs.append((text3a, text3b))\n",
    "        text_pairs.append((text4a, text4b))\n",
    "        text_pairs.append((text5a, text5b))\n",
    "\n",
    "\n",
    "\n",
    "\n",
    "        for i in range(1):\n",
    "            for pair in text_pairs:\n",
    "                rn = 4*(np.random.random(4)-.5)\n",
    "                print(rn, pair)\n",
    "                self.play(Write(pair[0].shift(rn[0]*RIGHT+rn[1]*UP), run_time=3))\n",
    "                self.wait(2)\n",
    "                self.play(ReplacementTransform(pair[0], pair[1].shift(rn[2]*RIGHT+rn[3]*UP)), run_time=4)\n",
    "                self.wait(2)\n",
    "                self.play(Unwrite(pair[1]), run_time=3)\n",
    "\n",
    "\n",
    "\n",
    "        #self.play(Write(title, shift=DOWN, scale=0.66), run_time=3)\n",
    "        #self.wait(3)\n",
    "        #self.play(ReplacementTransform(title, author))\n",
    "        #self.wait(3)\n",
    "        #self.play(FadeOut(author, shift=DOWN * 2, scale=1.5))\n",
    "        #self.wait(3)"
   ]
  },
  {
   "cell_type": "code",
   "execution_count": 11,
   "id": "77d1366d",
   "metadata": {},
   "outputs": [
    {
     "data": {
      "text/plain": [
       "['Al Bayan',\n",
       " 'Al Nile',\n",
       " 'Al Tarikh',\n",
       " 'American Typewriter',\n",
       " 'Andale Mono',\n",
       " 'Apple Braille',\n",
       " 'Apple Chancery',\n",
       " 'Apple Color Emoji',\n",
       " 'Apple SD Gothic Neo',\n",
       " 'Apple Symbols',\n",
       " 'AppleGothic',\n",
       " 'AppleMyungjo',\n",
       " 'Arial',\n",
       " 'Arial Black',\n",
       " 'Arial Hebrew',\n",
       " 'Arial Hebrew Scholar',\n",
       " 'Arial Narrow',\n",
       " 'Arial Rounded MT Bold',\n",
       " 'Arial Unicode MS',\n",
       " 'Audiowide',\n",
       " 'Avenir',\n",
       " 'Avenir Next',\n",
       " 'Avenir Next Condensed',\n",
       " 'Ayuthaya',\n",
       " 'Baghdad',\n",
       " 'Bangla MN',\n",
       " 'Bangla Sangam MN',\n",
       " 'Baskerville',\n",
       " 'Beirut',\n",
       " 'Big Caslon',\n",
       " 'Bodoni 72',\n",
       " 'Bodoni 72 Oldstyle',\n",
       " 'Bodoni 72 Smallcaps',\n",
       " 'Bodoni Ornaments',\n",
       " 'Bradley Hand',\n",
       " 'Brush Script MT',\n",
       " 'Chalkboard',\n",
       " 'Chalkboard SE',\n",
       " 'Chalkduster',\n",
       " 'Charter',\n",
       " 'Cochin',\n",
       " 'Comic Sans MS',\n",
       " 'Copperplate',\n",
       " 'Corsiva Hebrew',\n",
       " 'Courier',\n",
       " 'Courier New',\n",
       " 'DIN Alternate',\n",
       " 'DIN Condensed',\n",
       " 'Damascus',\n",
       " 'DecoType Naskh',\n",
       " 'Devanagari MT',\n",
       " 'Devanagari Sangam MN',\n",
       " 'Didot',\n",
       " 'Diwan Kufi',\n",
       " 'Diwan Thuluth',\n",
       " 'Euphemia UCAS',\n",
       " 'Farah',\n",
       " 'Farisi',\n",
       " 'Futura',\n",
       " 'GB18030 Bitmap',\n",
       " 'Geeza Pro',\n",
       " 'Geneva',\n",
       " 'Georgia',\n",
       " 'Gill Sans',\n",
       " 'Gujarati MT',\n",
       " 'Gujarati Sangam MN',\n",
       " 'Gurmukhi MN',\n",
       " 'Gurmukhi MT',\n",
       " 'Gurmukhi Sangam MN',\n",
       " 'Heiti SC',\n",
       " 'Heiti TC',\n",
       " 'Helvetica',\n",
       " 'Helvetica Neue',\n",
       " 'Herculanum',\n",
       " 'Hiragino Kaku Gothic StdN',\n",
       " 'Hiragino Maru Gothic ProN',\n",
       " 'Hiragino Mincho ProN',\n",
       " 'Hiragino Sans',\n",
       " 'Hiragino Sans GB',\n",
       " 'Hoefler Text',\n",
       " 'ITF Devanagari',\n",
       " 'ITF Devanagari Marathi',\n",
       " 'Impact',\n",
       " 'InaiMathi',\n",
       " 'Inconsolata for Powerline',\n",
       " 'Kailasa',\n",
       " 'Kannada MN',\n",
       " 'Kannada Sangam MN',\n",
       " 'Kefa',\n",
       " 'Khmer MN',\n",
       " 'Khmer Sangam MN',\n",
       " 'Kohinoor Bangla',\n",
       " 'Kohinoor Devanagari',\n",
       " 'Kohinoor Telugu',\n",
       " 'Kokonor',\n",
       " 'Krungthep',\n",
       " 'KufiStandardGK',\n",
       " 'Lao MN',\n",
       " 'Lao Sangam MN',\n",
       " 'Lucida Grande',\n",
       " 'Luminari',\n",
       " 'Malayalam MN',\n",
       " 'Malayalam Sangam MN',\n",
       " 'Marker Felt',\n",
       " 'Menlo',\n",
       " 'Meslo LG M DZ for Powerline',\n",
       " 'Microsoft Sans Serif',\n",
       " 'Mishafi',\n",
       " 'Mishafi Gold',\n",
       " 'Monaco',\n",
       " 'Monospace',\n",
       " 'Mshtakan',\n",
       " 'Muna',\n",
       " 'Myanmar MN',\n",
       " 'Myanmar Sangam MN',\n",
       " 'Nadeem',\n",
       " 'New Peninim MT',\n",
       " 'Noteworthy',\n",
       " 'Noto Nastaliq Urdu',\n",
       " 'Optima',\n",
       " 'Oriya MN',\n",
       " 'Oriya Sangam MN',\n",
       " 'PT Mono',\n",
       " 'PT Sans',\n",
       " 'PT Sans Caption',\n",
       " 'PT Sans Narrow',\n",
       " 'PT Serif',\n",
       " 'PT Serif Caption',\n",
       " 'Palatino',\n",
       " 'Papyrus',\n",
       " 'Phosphate',\n",
       " 'PingFang HK',\n",
       " 'PingFang SC',\n",
       " 'PingFang TC',\n",
       " 'Plantagenet Cherokee',\n",
       " 'Raanana',\n",
       " 'Rockwell',\n",
       " 'STIXGeneral',\n",
       " 'STIXIntegralsD',\n",
       " 'STIXIntegralsSm',\n",
       " 'STIXIntegralsUp',\n",
       " 'STIXIntegralsUpD',\n",
       " 'STIXIntegralsUpSm',\n",
       " 'STIXNonUnicode',\n",
       " 'STIXSizeFiveSym',\n",
       " 'STIXSizeFourSym',\n",
       " 'STIXSizeOneSym',\n",
       " 'STIXSizeThreeSym',\n",
       " 'STIXSizeTwoSym',\n",
       " 'STIXVariants',\n",
       " 'STSong',\n",
       " 'Sana',\n",
       " 'Sans',\n",
       " 'Sathu',\n",
       " 'Savoye LET',\n",
       " 'Serif',\n",
       " 'Shree Devanagari 714',\n",
       " 'SignPainter',\n",
       " 'Silom',\n",
       " 'Sinhala MN',\n",
       " 'Sinhala Sangam MN',\n",
       " 'Skia',\n",
       " 'Snell Roundhand',\n",
       " 'Songti SC',\n",
       " 'Songti TC',\n",
       " 'Sukhumvit Set',\n",
       " 'Symbol',\n",
       " 'Tahoma',\n",
       " 'Tamil MN',\n",
       " 'Tamil Sangam MN',\n",
       " 'Telugu MN',\n",
       " 'Telugu Sangam MN',\n",
       " 'Thonburi',\n",
       " 'Times',\n",
       " 'Times New Roman',\n",
       " 'Trattatello',\n",
       " 'Trebuchet MS',\n",
       " 'Verdana',\n",
       " 'Waseem',\n",
       " 'Webdings',\n",
       " 'Wingdings',\n",
       " 'Wingdings 2',\n",
       " 'Wingdings 3',\n",
       " 'Zapf Dingbats',\n",
       " 'Zapfino',\n",
       " 'cursive',\n",
       " 'fantasy',\n",
       " 'system-ui']"
      ]
     },
     "execution_count": 11,
     "metadata": {},
     "output_type": "execute_result"
    }
   ],
   "source": [
    "import manimpango\n",
    "manimpango.list_fonts()"
   ]
  },
  {
   "cell_type": "code",
   "execution_count": null,
   "id": "222175bc",
   "metadata": {},
   "outputs": [],
   "source": []
  },
  {
   "cell_type": "code",
   "execution_count": 70,
   "id": "6c25e97e",
   "metadata": {},
   "outputs": [
    {
     "name": "stderr",
     "output_type": "stream",
     "text": [
      "                                                                                                                                                       \r"
     ]
    },
    {
     "name": "stdout",
     "output_type": "stream",
     "text": [
      "VGroup of 12 submobjects\n"
     ]
    },
    {
     "name": "stderr",
     "output_type": "stream",
     "text": [
      "                                                                                                                                                       \r"
     ]
    },
    {
     "data": {
      "text/html": [
       "<video src=\"media/jupyter/Slide1@2022-02-07@16-34-20.mp4\" controls autoplay loop style=\"max-width: 100%;\"  >\n",
       "      Your browser does not support the <code>video</code> element.\n",
       "    </video>"
      ],
      "text/plain": [
       "<IPython.core.display.Video object>"
      ]
     },
     "metadata": {},
     "output_type": "display_data"
    }
   ],
   "source": [
    "%%manim -qh -v WARNING Slide1\n",
    "\n",
    "\n",
    "config.media_width = \"100%\"\n",
    "\n",
    "\n",
    "class Slide1(Scene):\n",
    "    \n",
    "    def construct(self):\n",
    "        \n",
    "        n  =6\n",
    "        m  = 2 # number of dice\n",
    "        brick_height = .2\n",
    "        bricks = VGroup()\n",
    "\n",
    "\n",
    "        def create_hist():\n",
    "            dice_values = dice_matrix.get_entries()\n",
    "            print(dice_values)\n",
    "        \n",
    "            entries = {}\n",
    "            for i in range(n):\n",
    "                for j in range(n):\n",
    "\n",
    "                    box1 = SurroundingRectangle(dice_values[i])\n",
    "                    box2 = SurroundingRectangle(dice_values[j+n])\n",
    "                    \n",
    "                    n_move = VGroup(VGroup(box1,dice_values[i].copy()), MathTex(\"+\").to_edge(RIGHT),\n",
    "                                    VGroup(box2,  dice_values[j+n].copy()),  MathTex(\"=\").to_edge(RIGHT)\n",
    "                                   )\n",
    "                    \n",
    "                    sum_ = Integer(dice_values[i].get_value() + dice_values[j+n].get_value())\\\n",
    "                    \n",
    "                    \n",
    "                    if sum_.get_value() in entries:\n",
    "                        entries[sum_.get_value()] +=1\n",
    "                    else:\n",
    "                        entries[sum_.get_value()] =1\n",
    "                    \n",
    "#                     print(entries)\n",
    "                    self.play(n_move.animate.arrange().shift(2*UP), run_time=3)\n",
    "#                     self.add(n_move)\n",
    "#                     self.add(sum_)\n",
    "                    self.play(Write(sum_.next_to(n_move, RIGHT)))\n",
    "                    self.wait(1)\n",
    "                    self.remove(n_move)\n",
    "#                     p rint(axes.point_to_coords(sum_.get_center() ), axes.coords_to_point(2,0,0 ))\n",
    "#                     self.add(sum_.next_to(axes.point_to_coords(sum_.get_center() )))\n",
    "#                     self.add(sum_.move_to([1,1,0]))\n",
    "                    rec = Rectangle(height=brick_height, width=0.5,  color=RED).next_to(\n",
    "                        axes.coords_to_point(sum_.get_value(),0, 0 ),DOWN,buff=0.0)\\\n",
    "    .shift(entries[sum_.get_value()]*brick_height*UP)\n",
    "\n",
    "                    self.play(Transform(sum_, rec.set_fill(YELLOW, opacity=1.0) , run_time=1, rate_func=smooth))\n",
    "#                     self.play(rec.animate)\n",
    "                    bricks.add(rec)\n",
    "                \n",
    "#         def math():\n",
    "#             text = MathTex(\"\\\\left<s \\\\right>  = \\\\sum_{i=1}^{12}i\\\\times p(i)=7\")\\\n",
    "#             .next_to(title, DR).align_to(title, RIGHT)\n",
    "            \n",
    "#             self.add(text)\n",
    "            \n",
    "            \n",
    "\n",
    "\n",
    "            \n",
    "            \n",
    "            \n",
    "        title = Title(\"2 fair dice, brute force\")\n",
    "        \n",
    "        axes = Axes(x_range=[0,15,1], x_length=8, y_range=[0,4,1], y_length=3, \n",
    "                    x_axis_config={\"include_numbers\": True}).to_corner(DL).shift(.5*UP)\\\n",
    "    \n",
    "        \n",
    "        x_label = axes.get_x_axis_label(\"sum\")\n",
    "        \n",
    "        dice_matrix = IntegerMatrix([[el for el in range(1,n+1)] for i in range(m) ],h_buff=.5, v_buff=0.6)\n",
    "        dice_matrix.next_to(title, DL).align_to(title, LEFT)\n",
    "        text = MathTex(\"\\\\left<s \\\\right>  = \\\\sum_{i=2}^{12}i\\\\times p(i)=7\")\\\n",
    "            .next_to(title, DR).align_to(title, RIGHT)\n",
    "        \n",
    "        \n",
    "        self.play(Write(title), run_time = 1)\n",
    "        self.play(Create(dice_matrix), run_time=2)\n",
    "        self.wait(3)\n",
    "        self.play(Write(axes))\n",
    "        self.add(x_label)\n",
    "        self.wait(3)\n",
    "        create_hist()\n",
    "        \n",
    "        self.wait(3)\n",
    "\n",
    "\n",
    "#         math()\n",
    "        self.add(text)\n",
    "\n",
    "\n",
    "        self.wait(3)\n",
    "        \n",
    "        self.play(*[FadeOut(mob, scale=0.5)for mob in self.mobjects], run_time=3)\n",
    "\n"
   ]
  },
  {
   "cell_type": "code",
   "execution_count": 77,
   "id": "3cabd669",
   "metadata": {},
   "outputs": [
    {
     "name": "stderr",
     "output_type": "stream",
     "text": [
      "                                                                                                                                                       \r"
     ]
    },
    {
     "data": {
      "text/html": [
       "<video src=\"media/jupyter/Slide2@2022-02-07@18-21-09.mp4\" controls autoplay loop style=\"max-width: 100%;\"  >\n",
       "      Your browser does not support the <code>video</code> element.\n",
       "    </video>"
      ],
      "text/plain": [
       "<IPython.core.display.Video object>"
      ]
     },
     "metadata": {},
     "output_type": "display_data"
    }
   ],
   "source": [
    "%%manim -qh -v WARNING Slide2\n",
    "\n",
    "\n",
    "config.media_width = \"100%\"\n",
    "\n",
    "\n",
    "class Slide2(Scene):\n",
    "    \n",
    "    def construct(self):\n",
    "# def slide2(self):\n",
    "    \n",
    "        n=6\n",
    "        m=2 # number of dice\n",
    "        n_sample  = 10\n",
    "\n",
    "        title = Title(\"2 Dice, Minimisation\")\n",
    "\n",
    "        dice_matrix = IntegerMatrix([[el for el in range(1,n+1)] for i in range(m) ],h_buff=.5, v_buff=0.6)\n",
    "        dice_matrix.next_to(title, DL).align_to(title, LEFT)    \n",
    "\n",
    "        text = Tex(\"$M$ -- number of 2-dice throw\",  font_size=40).next_to(title, DR).align_to(title, RIGHT)\n",
    "        functional  = Tex(\"$F(x_0) = \\sum_{i=1}^{M} (x_i -x_0)^2$\")\n",
    "        derivative1 = Tex(\"$\\\\frac{\\\\partial F}{\\\\partial x_0} = -2\\sum_{i=1}^{M} (x_i -x_0)=0 \\Rightarrow $\")\n",
    "        derivative2 = Tex(\"$\\sum_{i=1}^{M}(x_i -x_0) =0 \\Rightarrow $\")\n",
    "        derivative3 = Tex(\"$x_0=\\\\frac{1}{M}\\sum_{i=1}^{M} x_i$\")\n",
    "\n",
    "        ders = VGroup(functional,derivative1,derivative2,derivative3).\\\n",
    "        arrange(direction=np.array([0,-1,0]), aligned_edge=RIGHT).scale(.7)\\\n",
    "        .next_to(text,DR).align_to(title, RIGHT).shift(DOWN).set_color(YELLOW_A)    \n",
    "\n",
    "\n",
    "        # sample  counter\n",
    "        sample_counter_label = Text(\"current sample #: \")\n",
    "        sample_number = 0\n",
    "        sample_counter = Integer(sample_number)\n",
    "        sample_counter.add_updater(lambda m: m.set_value(sample_number))\n",
    "        counter  = VGroup(sample_counter_label, sample_counter).arrange()\\\n",
    "        .scale(.5).next_to(dice_matrix, DOWN).align_to(dice_matrix, LEFT)\n",
    "\n",
    "\n",
    "\n",
    "        number_line = NumberLine(\n",
    "                x_range=[0, m*n+1, 1],\n",
    "                unit_size=0.5,\n",
    "                include_numbers=True,\n",
    "                font_size=24,\n",
    "                include_tip=True,\n",
    "                length = 10,\n",
    "                stroke_width = 5\n",
    "            ).to_edge(DL).shift(.5*UP)\n",
    "\n",
    "        number_line_label = MathTex(\"x\").next_to(number_line, DR, aligned_edge=RIGHT, buff=0.0)\n",
    "        self.play(Write(title), run_time = 1)\n",
    "        self.wait(3)\n",
    "        self.play(FadeIn(dice_matrix), Write(text))\n",
    "        self.wait(2)\n",
    "        self.play(Create(number_line_label), Create(number_line))\n",
    "        self.add(counter)\n",
    "    #     self.play(Circumscribe(functional))\n",
    "\n",
    "\n",
    "        # true mean\n",
    "        true_mean = Line(start=[0,0,0], end=[0,1,0], stroke_color=BLUE, stroke_width=5, stroke_opacity=1)\n",
    "        true_mean_label = Text(\"true mean\").scale(.5)\n",
    "        tm = VGroup(true_mean, true_mean_label).arrange(direction=np.array([0,1,0]))\\\n",
    "        .next_to(number_line.number_to_point(1+n), UP, buff=.2)\n",
    "        self.play(Write(tm))\n",
    "        self.wait(3)\n",
    "\n",
    "        # instant mean\n",
    "        instant_mean = Arrow(start=UP, end=.8*DOWN, color=GREEN, tip_shape=mobject.geometry.ArrowTriangleTip)\n",
    "        instant_mean_label = Text(\"instant mean\", color=GREEN).scale(.5)\n",
    "        val = n+1\n",
    "        im = VGroup(instant_mean, instant_mean_label).arrange(direction=np.array([0,1,0]))\\\n",
    "        .next_to(number_line.number_to_point(val), UP, buff=.2)\n",
    "        im.add_updater(lambda x:  x.next_to(number_line.number_to_point(val), UP, buff=.2))\n",
    "\n",
    "        self.add(im)\n",
    "\n",
    "\n",
    "\n",
    "\n",
    "        total_sum = 0\n",
    "        for  i in range(n_sample):\n",
    "\n",
    "\n",
    "            a = np.random.randint([i*n for i in range(m)], [(i+1)*n for i in range(m)])\n",
    "\n",
    "\n",
    "             # THIS IS A GROUP FOR THE RESULTS BASED ON THE DATA\n",
    "            sample_results = VGroup()\n",
    "            boxes = VGroup()\n",
    "            summa = 0\n",
    "            for j, res in enumerate(a):\n",
    "                res = dice_matrix.get_entries()[a[j]]\n",
    "                box = SurroundingRectangle(res)\n",
    "                sample_results.add(res)\n",
    "                boxes.add(box)\n",
    "                summa += res.get_value() # sum of two values\n",
    "\n",
    "            tick = Line(start=[0,0,0], end=[0,1,0], stroke_color=YELLOW, stroke_width=10, stroke_opacity=.2)\\\n",
    "            .scale(.5).next_to(number_line.number_to_point(summa), UP, buff=0)\n",
    "\n",
    "            self.add(sample_results, boxes,)\n",
    "            self.play(Transform(boxes.copy(), tick))\n",
    "\n",
    "            sample_number +=1\n",
    "    #         self.wait(1)\n",
    "            self.remove(boxes)\n",
    "\n",
    "\n",
    "            total_sum += summa\n",
    "            val = total_sum/(i+1)\n",
    "    #         print(i,val)\n",
    "\n",
    "\n",
    "\n",
    "\n",
    "        def move_pointer(number_line_):\n",
    "            running_pointer = Arrow(start=UP, end=.5*DOWN, color=GOLD, tip_shape=mobject.geometry.ArrowTriangleTip)\n",
    "            running_pointer_label = MathTex(\"x_0=?\").scale(.7)\n",
    "            rp = VGroup(running_pointer, running_pointer_label).arrange(aligned_edge=UP, buff=0)\\\n",
    "            .next_to(number_line_.get_end(), UP)\n",
    "\n",
    "\n",
    "            start = number_line_.get_start()\n",
    "            end = number_line.get_end()\n",
    "            for i in np.arange(0.7, 0, -0.35):\n",
    "                self.play(rp.animate.set_x(i*start[0]), run_time=2)\n",
    "                self.play(rp.animate.set_x(i*end[0]), run_time=2)\n",
    "            return rp\n",
    "\n",
    "\n",
    "        self.wait(2)\n",
    "        self.remove(im)\n",
    "        rp = move_pointer(number_line)\n",
    "        self.remove(rp)\n",
    "        self.wait(2)\n",
    "\n",
    "        self.play(ShowIncreasingSubsets(ders), run_time=10)\n",
    "        self.play(Circumscribe(derivative3), run_time=3)\n",
    "\n",
    "        self.wait(3)\n",
    "\n",
    "\n",
    "        self.play(*[FadeOut(mob, scale=0.5)for mob in self.mobjects], run_time=1)\n",
    "\n",
    "\n"
   ]
  },
  {
   "cell_type": "code",
   "execution_count": null,
   "id": "32b11a40",
   "metadata": {},
   "outputs": [],
   "source": []
  },
  {
   "cell_type": "code",
   "execution_count": 117,
   "id": "76ccdee2",
   "metadata": {},
   "outputs": [
    {
     "name": "stderr",
     "output_type": "stream",
     "text": [
      "                                                                                                                                                       \r"
     ]
    },
    {
     "name": "stdout",
     "output_type": "stream",
     "text": [
      "0.32646746920071157 8 0 0.1388888888888889\n"
     ]
    },
    {
     "name": "stderr",
     "output_type": "stream",
     "text": [
      "                                                                                                                                                       \r"
     ]
    },
    {
     "name": "stdout",
     "output_type": "stream",
     "text": [
      "0.14576435996924797 2 0.1388888888888889 0.027777777777777776\n"
     ]
    },
    {
     "name": "stderr",
     "output_type": "stream",
     "text": [
      "                                                                                                                                                       \r"
     ]
    },
    {
     "name": "stdout",
     "output_type": "stream",
     "text": [
      "0.5319685467747722 3 0.027777777777777776 0.05555555555555555\n"
     ]
    },
    {
     "name": "stderr",
     "output_type": "stream",
     "text": [
      "                                                                                                                                                       \r"
     ]
    },
    {
     "name": "stdout",
     "output_type": "stream",
     "text": [
      "0.19408471343633893 6 0.05555555555555555 0.1388888888888889\n"
     ]
    },
    {
     "name": "stderr",
     "output_type": "stream",
     "text": [
      "                                                                                                                                                       \r"
     ]
    },
    {
     "name": "stdout",
     "output_type": "stream",
     "text": [
      "0.917706550133536 4 0.1388888888888889 0.08333333333333333\n",
      "no go\n"
     ]
    },
    {
     "name": "stderr",
     "output_type": "stream",
     "text": [
      "                                                                                                                                                       \r"
     ]
    },
    {
     "name": "stdout",
     "output_type": "stream",
     "text": [
      "0.9977826725318647 10 0.1388888888888889 0.08333333333333333\n",
      "no go\n"
     ]
    },
    {
     "name": "stderr",
     "output_type": "stream",
     "text": [
      "                                                                                                                                                       \r"
     ]
    },
    {
     "name": "stdout",
     "output_type": "stream",
     "text": [
      "0.8068515837258481 5 0.1388888888888889 0.1111111111111111\n",
      "no go\n"
     ]
    },
    {
     "name": "stderr",
     "output_type": "stream",
     "text": [
      "                                                                                                                                                       \r"
     ]
    },
    {
     "name": "stdout",
     "output_type": "stream",
     "text": [
      "0.81817109429958 2 0.1388888888888889 0.027777777777777776\n",
      "no go\n"
     ]
    },
    {
     "name": "stderr",
     "output_type": "stream",
     "text": [
      "                                                                                                                                                       \r"
     ]
    },
    {
     "name": "stdout",
     "output_type": "stream",
     "text": [
      "0.06631641243384001 10 0.1388888888888889 0.08333333333333333\n"
     ]
    },
    {
     "name": "stderr",
     "output_type": "stream",
     "text": [
      "                                                                                                                                                       \r"
     ]
    },
    {
     "name": "stdout",
     "output_type": "stream",
     "text": [
      "0.2738102027005709 6 0.08333333333333333 0.1388888888888889\n"
     ]
    },
    {
     "name": "stderr",
     "output_type": "stream",
     "text": [
      "                                                                                                                                                       \r"
     ]
    },
    {
     "data": {
      "text/html": [
       "<video src=\"media/jupyter/Slide3@2022-02-07@21-44-27.mp4\" controls autoplay loop style=\"max-width: 100%;\"  >\n",
       "      Your browser does not support the <code>video</code> element.\n",
       "    </video>"
      ],
      "text/plain": [
       "<IPython.core.display.Video object>"
      ]
     },
     "metadata": {},
     "output_type": "display_data"
    }
   ],
   "source": [
    "%%manim -qh -v WARNING Slide3\n",
    "\n",
    "\n",
    "config.media_width = \"100%\"\n",
    "\n",
    "\n",
    "class Slide3(Scene):\n",
    "    \n",
    "    def construct(self):\n",
    "\n",
    "\n",
    "    \n",
    "        n=6\n",
    "        m=2 # number of dice\n",
    "        n_sample  = 10\n",
    "\n",
    "        title = Title(\"Simulation: mathematical experiment\")\n",
    "\n",
    "        dice_matrix = IntegerMatrix([[el for el in range(1,n+1)] for i in range(m) ],h_buff=.5, v_buff=0.6)\n",
    "        dice_matrix.next_to(title, DL).align_to(title, LEFT)    \n",
    "\n",
    "\n",
    "        self.play(Write(title))\n",
    "        self.wait(3)\n",
    "        self.play(Create(dice_matrix))\n",
    "        self.wait(1)\n",
    "\n",
    "        \n",
    "\n",
    "\n",
    "        texfont = TexFontTemplates.chalkduster\n",
    "        texfontsize =20\n",
    "\n",
    "        text1 = Tex(\"A system of 2 dice has\" ,  tex_template=texfont, font_size=texfontsize)\n",
    "        text2 = Tex(\"11 different sums (states)\", tex_template=texfont, font_size=texfontsize)\n",
    "    #     text3 = Text(\"11\", font=\"Verdana\",  font_size=25)\n",
    "    #     text4 = Text(\"states and\" , font=\"Verdana\",  font_size=25, gradient=(RED, BLUE, GREEN))\n",
    "        text5 = Tex(\"$\\\\forall i\\\\in[1\\\\dots 11]\\, \\\\exists p_i: \\\\sum_i p_i=1$\",\n",
    "                    tex_template=texfont,font_size=texfontsize)\n",
    "\n",
    "        balance = Tex(\"$p_o\\\\times acc(o\\\\rightarrow n)=p_n\\\\times acc(n\\\\rightarrow o)$\", font_size=texfontsize,\\\n",
    "                      tex_template=texfont)\n",
    "    #     solution = Tex(\"$ f(x)=\\\\begin{cases} 1, & \\\\text{if \\$x<0\\$}.\\\\ 0, & \\\\text{otherwise}.\\\\end{cases}$\")\n",
    "\n",
    "        eqns = Tex(\"$acc(o\\\\rightarrow n)=\\\\begin{cases} 1 \\\\text{, if }p_n>p_o \\\\\\\\p_n/p_o \\\\text{, otherwise }  \\\\end{cases}$\",\n",
    "                   tex_template=texfont, font_size=texfontsize)\n",
    "\n",
    "        code = \"\"\"\n",
    "        if random() < p_n/p_o:\n",
    "            accept new state\n",
    "        else:\n",
    "            preserve the old one\n",
    "            \"\"\"\n",
    "        transition_code = Code(code=code, tab_width=4, background=\"window\",\n",
    "                                language=\"Python\", font='chalkduster',font_size=15)\n",
    "\n",
    "    #     self.play(Write(eqns.scale(.7)), Write(balance))\n",
    "\n",
    "    #     self.add(solution)\n",
    "    #     tex = Tex(\"$\\\\forall i\\\\in[1\\\\dots 11]$\",  tex_template=TexFontTemplates.chalkduster, font_size=30)\n",
    "\n",
    "\n",
    "    #     gr1 = VGroup(text2,text3,  text4).arrange()\n",
    "\n",
    "\n",
    "\n",
    "        text  = VGroup(text1, text2,text5, balance,eqns,transition_code ).arrange(\n",
    "            direction=np.array([0,-1,0]), aligned_edge=RIGHT, buff=.4).next_to(title,DR).align_to(title, RIGHT)\n",
    "\n",
    "        self.play(ShowIncreasingSubsets(text), run_time=10)#, text5.next_to(text,DR).align_to(text, RIGHT))\n",
    "        \n",
    "        self.wait(3)\n",
    "    #     self.play(Circumscribe(text1[2]), run_time=3)\n",
    "    #     self.add(balance.next_to(text5,DR).align_to(text5, RIGHT))\n",
    "    #     self.add(eqns.next_to(balance,DR).align_to(balance, RIGHT))\n",
    "    #     self.add(transition_code.to_edge(DR).align_to(title, RIGHT))\n",
    "\n",
    "         # sample  counter\n",
    "        sample_counter_label = Text(\"current sample #: \")\n",
    "        sample_number = 0\n",
    "        sample_counter = Integer(sample_number)\n",
    "        sample_counter.add_updater(lambda m: m.set_value(sample_number))\n",
    "        counter  = VGroup(sample_counter_label, sample_counter).arrange()\\\n",
    "        .scale(.5).next_to(dice_matrix, DOWN).align_to(dice_matrix, LEFT)\n",
    "        self.add(counter)\n",
    "\n",
    "\n",
    "\n",
    "\n",
    "\n",
    "        #areas for  probabilities\n",
    "        p_old = DecimalNumber(0, font_size=20)\n",
    "        val_old=0\n",
    "        p_old.add_updater(lambda x: x.set_value(val_old))\n",
    "    #     p_old_rect = SurroundingRectangle(p_old)\n",
    "    #     p_old_group = VGroup(p_old_rect, p_old)\n",
    "\n",
    "        val_new=0\n",
    "        p_new = DecimalNumber(0, font_size=20)\n",
    "        p_new.add_updater(lambda x: x.set_value(val_new))\n",
    "        p_new_rect = SurroundingRectangle(p_new, corner_radius=0.2, color=RED)\n",
    "        p_new_group = VGroup(p_new, p_new_rect)\n",
    "\n",
    "        p_group = VGroup(p_new_group, p_old).arrange(direction=np.array([0,-1,0]), buff=0.1)\n",
    "\n",
    "\n",
    "        prob_frac = Tex(\"$\\\\frac{p_n}{p_o}=$\", font_size=30).next_to(title, DOWN)\n",
    "\n",
    "        prob_ratio = DecimalNumber(0, font_size=20)\n",
    "        ratio=0\n",
    "        prob_ratio.add_updater(lambda x: x.set_value(ratio))\n",
    "        prob_ratio_rect = SurroundingRectangle(prob_ratio)\n",
    "        ratio_group = VGroup(prob_ratio, prob_ratio_rect)\n",
    "\n",
    "        equals = Tex(\"$=$\", font_size=30)\n",
    "\n",
    "        p_group = VGroup(prob_frac, p_group, equals, ratio_group).arrange().next_to(title, 2*DOWN)\n",
    "\n",
    "        self.add(p_group)\n",
    "\n",
    "\n",
    "\n",
    "\n",
    "        #filling probabilities\n",
    "        probs = {2:1, 3:2, 4:3, 5:4, 6:5, 7:6, 8:5, 9:4,  10:3, 11:2, 12:1}\n",
    "\n",
    "\n",
    "\n",
    "        #adding number line for random numbers\n",
    "\n",
    "        nl = NumberLine(x_range=[0,2.2,0.2], length=4,\n",
    "                        include_numbers=True,\n",
    "                        include_tip=False,\n",
    "                        font_size=20,\n",
    "                        unit_size=0.2,\n",
    "                        numbers_with_elongated_ticks= [0,1])\\\n",
    "        .next_to(p_group, 3*DOWN)\n",
    "\n",
    "        self.add(nl)\n",
    "\n",
    "\n",
    "        # running pointer\n",
    "        running_pointer = Arrow(start=UP, end=.05*DOWN, color=GOLD, tip_shape=mobject.geometry.ArrowTriangleTip)\n",
    "        running_pointer_label = Tex(\"$ratio$\").scale(.4)\n",
    "        rp = VGroup(running_pointer_label,running_pointer).arrange(direction=np.array([0,-1,0]), aligned_edge=DOWN)\\\n",
    "    #     .next_to(running_pointer.get_start(), UP)\n",
    "    #     val=0\n",
    "        rp.add_updater(lambda x:  x.next_to(nl.number_to_point(ratio), UP, buff=0))\n",
    "        self.add(rp)\n",
    "\n",
    "\n",
    "        # running pointer1\n",
    "        running_pointer1 = Arrow(start=DOWN, end=.05*UP, color=GOLD, tip_shape=mobject.geometry.ArrowTriangleTip)\n",
    "        running_pointer_label1 = Tex(\"$rnd$\").scale(.4)\n",
    "        rp1 = VGroup(running_pointer_label1, running_pointer1).arrange(direction=np.array([0,1,0]), aligned_edge=DOWN)\\\n",
    "    #     .next_to(running_pointer.get_start(), UP)\n",
    "        rn=0\n",
    "        rp1.add_updater(lambda x:  x.next_to(nl.number_to_point(rn), DOWN, buff=0))\n",
    "        self.add(rp1)\n",
    "\n",
    "\n",
    "\n",
    "\n",
    "\n",
    "    #         start = number_line_.get_start()\n",
    "    #         end = number_line_.get_end()\n",
    "    #         for i in np.arange(0.7, 0, -0.25):\n",
    "    #             self.play(rp.animate.set_x(i*start[0]), run_time=2)\n",
    "    #             self.play(rp.animate.set_x(i*end[0]), run_time=2)\n",
    "    #         return rp\n",
    "\n",
    "    #     rp  =  move_pointer(nl)\n",
    "\n",
    "\n",
    "\n",
    "        axes  = Axes(x_range=[0, n_sample], y_range=[0,4,0.4], x_length=8, y_length=3.5,tips=False )\\\n",
    "        .to_edge(DL).add_coordinates(font_size=20)\n",
    "\n",
    "\n",
    "\n",
    "        x_vals = [0]\n",
    "        y_vals_brute = [0]\n",
    "        y_vals_mc = [0]\n",
    "\n",
    "        graph_brute = always_redraw(lambda: axes.plot_line_graph(x_values=x_vals, y_values=y_vals_brute))\n",
    "        graph_mc = always_redraw(lambda: axes.plot_line_graph(x_values=x_vals, y_values=y_vals_mc, line_color=BLUE))\n",
    "\n",
    "        y_label = axes.get_y_axis_label(Tex(\"$\\\\langle|7- sum|\\\\rangle$\"), edge=UP, direction=DL).scale(0.5)\n",
    "        x_label = axes.get_x_axis_label(Tex(\"$step \\\\#$\"), edge=RIGHT, direction=UL).scale(0.5)\n",
    "\n",
    "    #     graph_label1 =always_redraw(lambda: axes.get_graph_label(graph_brute['line_graph'], 'Brute', \n",
    "    #                                                  x_val=sum(x_vals)/len(x_vals),\n",
    "    #                                                              buff=.4,direction=UP).scale(.5)\n",
    "    #                                )\n",
    "    #     graph_label2 =always_redraw(lambda: axes.get_graph_label(graph_mc['line_graph'], 'MC', \n",
    "    #                                                  x_val=sum(x_vals)/len(x_vals),\n",
    "    #                                                              buff=.3,direction=UP).scale(.5)\n",
    "    #                                )\n",
    "\n",
    "\n",
    "\n",
    "\n",
    "    #     print(graph_brute)\n",
    "    #     graph_label2 = axes.get_graph_label(graph_mc, label = 'MC')\n",
    "\n",
    "\n",
    "    #     self.add()\n",
    "    #     labels = VGroup(x_label, y_label, graph_label1, graph_label2)\n",
    "        labels = VGroup(x_label, y_label)\n",
    "\n",
    "\n",
    "        self.add(graph_brute, graph_mc, labels)\n",
    "        self.play(Create(axes))\n",
    "        self.wait(3)\n",
    "\n",
    "        # looping\n",
    "        total_sum = 0\n",
    "        summa_old = 0\n",
    "        total_sum_mc=0\n",
    "        val_old_mc = 0\n",
    "        tmp_mc = 0\n",
    "        tmp_brute = 0\n",
    "        for  i in range(1,n_sample+1):\n",
    "\n",
    "            a = np.random.randint([k*n for k in range(m)], [(l+1)*n for l in range(m)])\n",
    "\n",
    "             # THIS IS A GROUP FOR THE RESULTS BASED ON THE DATA\n",
    "            sample_results = VGroup()\n",
    "            boxes11 = VGroup()\n",
    "            summa = 0\n",
    "            for j, res in enumerate(a):\n",
    "                res = dice_matrix.get_entries()[a[j]]\n",
    "                box = SurroundingRectangle(res)\n",
    "                sample_results.add(res)\n",
    "                boxes11.add(box)\n",
    "                summa += res.get_value() # sum of two values\n",
    "\n",
    "    #         tick = Line(start=[0,0,0], end=[0,1,0], stroke_color=YELLOW, stroke_width=10, stroke_opacity=.2)\\\n",
    "    #         .scale(.5).next_to(number_line.number_to_point(summa), UP, buff=0)\n",
    "\n",
    "\n",
    "\n",
    "            self.add(boxes11,sample_results)\n",
    "            self.play(Transform(sample_results.copy(), p_new_rect), run_time=2)\n",
    "\n",
    "\n",
    "\n",
    "            sample_number +=1\n",
    "\n",
    "\n",
    "    #         val_old = val_new\n",
    "            val_new = probs[summa]/36.\n",
    "\n",
    "\n",
    "\n",
    "\n",
    "            if val_old == 0:\n",
    "    #             val =val_new\n",
    "                ratio=1\n",
    "                ratio_mc= 1\n",
    "            else:\n",
    "    #             val = val_new/val_old\n",
    "                ratio  = val_new/val_old\n",
    "                ratio_mc = val_new/val_old_mc\n",
    "\n",
    "    #         total_sum += summa\n",
    "    #         print(x_val)\n",
    "            x_vals.append(i)\n",
    "    #         print(x_vals)\n",
    "            tmp_brute += np.abs(7-summa)\n",
    "            y_vals_brute.append(tmp_brute/i)\n",
    "    #         y_vals_brute.append(np.abs(7-total_sum/(i)))\n",
    "\n",
    "            rn = np.random.rand()\n",
    "            print(rn, summa, val_old_mc, val_new)\n",
    "\n",
    "            if  rn <= ratio_mc:\n",
    "                val_old_mc = val_new\n",
    "\n",
    "                summa_old = summa\n",
    "    #             self.play(p_new_group.copy().animate.move_to(p_old.get_center()), run_time=2)\n",
    "    #             p_new_group.move_to()\n",
    "    #             self.remove(p_new_rect)\n",
    "                self.wait(1)\n",
    "                val_old = val_new\n",
    "\n",
    "            else:\n",
    "                print('no go')\n",
    "                self.wait(1)\n",
    "\n",
    "            tmp_mc+= np.abs(7-summa_old)\n",
    "            y_vals_mc.append(tmp_mc/i)\n",
    "    #         total_sum_mc += summa_old\n",
    "\n",
    "    #         y_vals_mc.append(np.abs(7-total_sum_mc/(i)))\n",
    "\n",
    "    #         self.remove(boxes)\n",
    "            self.wait(1)\n",
    "    #         self.add(sample_results)\n",
    "    #         print(boxes11, p_new)\n",
    "\n",
    "            self.remove(boxes11)\n",
    "\n",
    "\n",
    "        self.play(*[FadeOut(mob, scale=0.5)for mob in self.mobjects], run_time=1)\n",
    " \n",
    "    \n",
    "    "
   ]
  },
  {
   "cell_type": "code",
   "execution_count": 115,
   "id": "de924cc7",
   "metadata": {},
   "outputs": [],
   "source": [
    "# %%manim -ql -v WARNING Presentation\n",
    "\n",
    "\n",
    "# config.media_width = \"100%\"\n",
    "\n",
    "\n",
    "# class Presentation(Scene):\n",
    "    \n",
    "#     def construct(self):\n",
    "        \n",
    "       \n",
    "#         intro(self)\n",
    "#         self.play(*[FadeOut(mob, scale=0.5)for mob in self.mobjects], )\n",
    "#         slide1(self)\n",
    "#         self.play(*[FadeOut(mob, scale=0.5)for mob in self.mobjects], )\n",
    "#         slide2(self)\n",
    "#         self.play(*[FadeOut(mob, scale=0.5)for mob in self.mobjects], run_time=5)\n",
    "#         slide3(self)\n",
    "#         self.play(*[FadeOut(mob, scale=0.5)for mob in self.mobjects], run_time=1)\n",
    "#         slide4(self)\n",
    "#         self.play(*[FadeOut(mob, scale=0.5)for mob in self.mobjects], run_time=1)\n",
    "#         slide5(self)\n",
    "#         self.play(*[FadeOut(mob, scale=0.5)for mob in self.mobjects], run_time=1)\n",
    "\n",
    "#         slide6(self)\n",
    "#         self.play(*[FadeOut(mob, scale=0.5)for mob in self.mobjects], run_time=1)\n",
    "\n",
    "\n",
    "        \n",
    "        "
   ]
  },
  {
   "cell_type": "code",
   "execution_count": null,
   "id": "f1c293b6",
   "metadata": {},
   "outputs": [],
   "source": [
    "5/36"
   ]
  },
  {
   "cell_type": "code",
   "execution_count": null,
   "id": "c43d79ad",
   "metadata": {},
   "outputs": [],
   "source": [
    "import manimpango\n",
    "manimpango.list_fonts()"
   ]
  },
  {
   "cell_type": "code",
   "execution_count": null,
   "id": "58c7330a",
   "metadata": {},
   "outputs": [],
   "source": [
    "np.random.randint([1, 4], [4, 8])"
   ]
  },
  {
   "cell_type": "code",
   "execution_count": null,
   "id": "2dd82503",
   "metadata": {},
   "outputs": [],
   "source": [
    "[i*4 for i in range(4)]"
   ]
  },
  {
   "cell_type": "code",
   "execution_count": null,
   "id": "232d2903",
   "metadata": {},
   "outputs": [],
   "source": [
    "# %%manim -v WARNING HeatDiagramPlot\n",
    "# from manim import *\n",
    "\n",
    "# class HeatDiagramPlot(Scene):\n",
    "#     def construct(self):\n",
    "#         ax = Axes(\n",
    "#             x_range=[0, 43, 5],\n",
    "#             y_range=[-8, 32, 5],\n",
    "#             x_length=9,\n",
    "#             y_length=6,\n",
    "# #             x_axis_config={\"numbers_to_include\": np.arange(0, 45, 5)},\n",
    "# #             y_axis_config={\"numbers_to_include\": np.arange(-5, 34, 5)},\n",
    "#             tips=False,\n",
    "#         ).add_coordinates()\n",
    "#         labels = ax.get_axis_labels(\n",
    "#             x_label=Tex(\"$\\Delta Q$\"), y_label=Tex(\"T[$^\\circ C$]\")\n",
    "#         )\n",
    "\n",
    "#         x_vals = [0, 0]\n",
    "#         y_vals = [0, 0 ]\n",
    "#         graph = always_redraw(lambda: ax.plot_line_graph(x_values=x_vals, y_values=y_vals)\n",
    "#                              )\n",
    "        \n",
    "#         label = always_redraw(lambda: ax.get_graph_label(graph['line_graph'], 'fff', \n",
    "#                                                          x_val=sum(x_vals)/len(x_vals), \n",
    "#                                                          buff=.2,direction=DL  )\n",
    "    \n",
    "#                              )\n",
    "#         print(graph)\n",
    "#         self.add(ax, labels, graph, label)\n",
    "\n",
    "        \n",
    "#         for i in range(1,10):\n",
    "#             x_vals.append(2*i)\n",
    "#             y_vals.append(y_vals[-1] +2*(np.random.random()-0.5))\n",
    "#             print(x_vals)\n",
    "#             self.wait(1)\n",
    "        \n",
    "\n",
    "#         print(x_vals)"
   ]
  },
  {
   "cell_type": "code",
   "execution_count": 85,
   "id": "10e21370",
   "metadata": {},
   "outputs": [
    {
     "name": "stderr",
     "output_type": "stream",
     "text": [
      "                                                                                                                                                       \r"
     ]
    },
    {
     "name": "stdout",
     "output_type": "stream",
     "text": [
      "[ 1.42108547e-14 -3.56662500e-01  0.00000000e+00]\n"
     ]
    },
    {
     "name": "stderr",
     "output_type": "stream",
     "text": [
      "                                                                                                                                                       \r"
     ]
    },
    {
     "name": "stdout",
     "output_type": "stream",
     "text": [
      "3\n",
      "[1.42108547e-14 6.43337500e-01 0.00000000e+00]\n"
     ]
    },
    {
     "name": "stderr",
     "output_type": "stream",
     "text": [
      "                                                                                                                                                       \r"
     ]
    },
    {
     "name": "stdout",
     "output_type": "stream",
     "text": [
      "3\n",
      "[1.42108547e-14 1.64333750e+00 0.00000000e+00]\n"
     ]
    },
    {
     "name": "stderr",
     "output_type": "stream",
     "text": [
      "                                                                                                                                                       \r"
     ]
    },
    {
     "name": "stdout",
     "output_type": "stream",
     "text": [
      "2\n",
      "[1.        1.6433375 0.       ]\n"
     ]
    },
    {
     "name": "stderr",
     "output_type": "stream",
     "text": [
      "                                                                                                                                                       \r"
     ]
    },
    {
     "name": "stdout",
     "output_type": "stream",
     "text": [
      "4\n",
      "[1.        0.6433375 0.       ]\n"
     ]
    },
    {
     "name": "stderr",
     "output_type": "stream",
     "text": [
      "                                                                                                                                                       \r"
     ]
    },
    {
     "name": "stdout",
     "output_type": "stream",
     "text": [
      "2\n"
     ]
    },
    {
     "name": "stderr",
     "output_type": "stream",
     "text": [
      "                                                                                                                                                       \r"
     ]
    },
    {
     "data": {
      "text/html": [
       "<video src=\"media/jupyter/Slide4@2022-02-07@19-30-16.mp4\" controls autoplay loop style=\"max-width: 100%;\"  >\n",
       "      Your browser does not support the <code>video</code> element.\n",
       "    </video>"
      ],
      "text/plain": [
       "<IPython.core.display.Video object>"
      ]
     },
     "metadata": {},
     "output_type": "display_data"
    }
   ],
   "source": [
    "%%manim -qh -v WARNING Slide4\n",
    "\n",
    "# def slide4(self):\n",
    "        \n",
    "    \n",
    "class Slide4(Scene):\n",
    "    \n",
    "    \n",
    "    def one_step(self, point=[0,0,0]):\n",
    "            d_ = Dot(point = point, radius=.2)\n",
    "            d1 = d_.copy().shift(LEFT)\n",
    "            d2 = d_.copy().shift(RIGHT)\n",
    "            d3 = d_.copy().shift(UP)\n",
    "            d4 = d_.copy().shift(DOWN)\n",
    "            dots__ = VGroup(d1,d2,d3, d4).set_color(RED)\n",
    "\n",
    "            return d_,dots__\n",
    "    \n",
    "    \n",
    "    def construct(self):\n",
    "        \n",
    "        title = Title('Number of conformations')\n",
    "        self.play(Write(title))\n",
    "        \n",
    "        n_plane = NumberPlane(x_range=[-3,3], y_range=[-3,3]).next_to(title, DOWN)\n",
    "        self.add(n_plane)\n",
    "        self.wait(2)\n",
    "               \n",
    "        point = n_plane.coords_to_point(0,0)\n",
    "        dot_keeper = VGroup()\n",
    "        prev_dot = None\n",
    "        prev_dots = VGroup()\n",
    "        \n",
    "        for i in range(5):\n",
    "            print(point)\n",
    "\n",
    "\n",
    "            d, dots_ = self.one_step(point)\n",
    "#             self.play()\n",
    "            if prev_dot:\n",
    "#                 self.play(prev_dot.copy().animate.move_to(point), )\n",
    "#                 self.remove(d,prev_dot)\n",
    "                self.add(d)\n",
    "            else:\n",
    "                self.add(d)\n",
    "            self.add(dots_)\n",
    "\n",
    "\n",
    "            for dot in dots_:\n",
    "              self.play(Flash(dot))  \n",
    "            \n",
    "            option = {1:LEFT, 2:RIGHT, 3:UP, 4:DOWN}\n",
    "            direction = np.random.choice(list(option.keys()))\n",
    "        \n",
    "            print(direction)\n",
    "            point += option[direction]\n",
    "            self.remove(dots_)\n",
    "            dot_keeper.add(d)\n",
    "            prev_dot = d\n",
    "            prev_dots.add(prev_dot)\n",
    "        \n",
    "        self.remove(prev_dots)\n",
    "\n",
    "        self.wait(2)\n",
    "        group  = VGroup(n_plane, dot_keeper)\n",
    "        self.play(group.animate.scale(0.7).next_to(title, DOWN, aligned_edge=LEFT), run_time=3)\n",
    "        \n",
    "        \n",
    "        text1 = Tex(\"$4$ -- grid coordination number \\\\\\$N$ -- number of beads \\\\\\$4^N$ -- total number of trajectories\")\\\n",
    "        .scale(.7).next_to(title, DOWN, aligned_edge=RIGHT)\n",
    "        self.add(text1)\n",
    "        self.wait(3)\n",
    "        \n",
    "        table_ = r\"\"\"\n",
    "         \\begin{table}[]\n",
    "        \\centering\n",
    "        \\begin{tabular}{l|l}\n",
    "        \\multicolumn{2}{c}{$4^N$ for different $N$}  \\\\\n",
    "       \\hline\n",
    "        $N$ & example   \\\\\n",
    "       \\hline\n",
    "              \\hline\n",
    "        12 & Earth equator, $m$ \\\\\n",
    "        19 & distance to the Sun, $m$ \\\\\n",
    "        22 & number of cells in human body\\\\\n",
    "        29 & Fugaku, 400 Pflops, \\\\\n",
    "         & $7\\times10^6$ cores, top500.org\\\\\n",
    "        \\hline\n",
    "        \\end{tabular}\n",
    "        \\end{table}\n",
    "         \"\"\"\n",
    "            \n",
    "        table = Tex(table_, color=YELLOW).scale(.7).next_to(text1, 2*DOWN, aligned_edge=RIGHT)\n",
    "        \n",
    "        self.play(Create(table,  ), run_time=10)\n",
    "        \n",
    "        self.wait(3)\n",
    "        \n",
    "        text2 = Tex(\"$N\\propto 10^4$ and  in $3D$ coordination number is 6\").to_edge(DOWN)\n",
    "        for i in range(5):\n",
    "            self.play(Indicate(text2))\n",
    "            \n",
    "        self.play(*[FadeOut(mob, scale=0.5)for mob in self.mobjects], run_time=3)"
   ]
  },
  {
   "cell_type": "code",
   "execution_count": 89,
   "id": "da64ec9e",
   "metadata": {},
   "outputs": [
    {
     "name": "stderr",
     "output_type": "stream",
     "text": [
      "                                                                                                                                                       \r"
     ]
    },
    {
     "data": {
      "text/html": [
       "<video src=\"media/jupyter/Slide5@2022-02-07@19-42-34.mp4\" controls autoplay loop style=\"max-width: 100%;\"  >\n",
       "      Your browser does not support the <code>video</code> element.\n",
       "    </video>"
      ],
      "text/plain": [
       "<IPython.core.display.Video object>"
      ]
     },
     "metadata": {},
     "output_type": "display_data"
    }
   ],
   "source": [
    "%%manim -qh -v WARNING Slide5\n",
    "\n",
    "class Slide5(Scene):\n",
    "    \n",
    "    def construct(self):\n",
    "   \n",
    "# def slide5(self):\n",
    "        title = Title(\"Distance-based approach\")\n",
    "        self.play(Write(title))\n",
    "        self.wait(2)\n",
    "        conf= ImageMobject(\"random_conf.png\")\n",
    "        self.add(conf.scale(.4).to_edge(DOWN).align_to(title, LEFT))\n",
    "        self.wait(1)\n",
    "        \n",
    "        distance_matrix = Matrix([\n",
    "            [\"0\", \"d_{12}\", \"d_{13}\", \"d_{14}\", \"d_{15}\",\"d_{16}\"],\n",
    "            [\"d_{21}\", \"0\", \"d_{23}\", \"d_{24}\", \"d_{25}\",\"d_{26}\"],\n",
    "            [\"d_{31}\", \"d_{32}\", \"0\", \"d_{34}\", \"d_{35}\",\"d_{36}\"],\n",
    "            [\"d_{41}\", \"d_{42}\", \"d_{43}\", \"0\", \"d_{45}\",\"d_{46}\"],\n",
    "            [\"d_{51}\", \"d_{52}\", \"d_{53}\", \"d_{54}\", \"0\",\"d_{56}\"],\n",
    "            [\"d_{61}\", \"d_{62}\", \"d_{63}\", \"d_{64}\", \"d_{65}\", 0],\n",
    "\n",
    "        ]).scale(.7).next_to(title, DOWN, aligned_edge=RIGHT)\n",
    "        \n",
    "        self.play(FadeIn(distance_matrix), run_time=3)\n",
    "        self.wait(2)\n",
    "        \n",
    "        entries = distance_matrix.get_entries()\n",
    "\n",
    "        diag = []; k=0; ldiag=[]; udiag=[]\n",
    "        for i in range(6):\n",
    "            for j in range(6):\n",
    "                if i==j: diag.append(k)\n",
    "                elif i>j: ldiag.append(k)\n",
    "                else: udiag.append(k)\n",
    "                k+=1\n",
    "        \n",
    "        \n",
    "        for ent in diag:\n",
    "            self.play(Flash(entries[ent].set_color(YELLOW)))\n",
    "        \n",
    "        ld = VGroup()\n",
    "        for ent in ldiag:\n",
    "            ld.add(entries[ent])\n",
    "            \n",
    "        ud = VGroup()\n",
    "        for ent in udiag:\n",
    "            ud.add(entries[ent])\n",
    "        \n",
    "        for i in range(1):\n",
    "            self.play(Wiggle(ld.set_color(RED)), Wiggle(ud.set_color(RED)))\n",
    "        self.wait(5)\n",
    "\n",
    "        \n",
    "#         task = MarkupText(f'<span underline=\"double\" underline_color=\"green\">Task</span>').next_to(distance_matrix, DOWN).scale(.7)        \n",
    "#         self.add(task)\n",
    "        text = Tex(r\"\"\"\n",
    "\\begin{itemize}\n",
    "\\item $\\forall i,j : D_{ij} \\rightarrow {r_k(x,y,z)} \\forall k\\in[1\\dots 6]$\n",
    "\\item model stretches between $r_k$\n",
    "\\end{itemize}\n",
    "\"\"\").next_to(distance_matrix, DOWN).scale(.6)\n",
    "        self.add(text)\n",
    "        text = Tex(r\"\"\"$4\\times 10^6/100/100\\approx 400$ Bp per bead\"\"\").scale(.6)\\\n",
    "        .to_edge(DOWN).align_to(title, RIGHT)\n",
    "        for i in range(3):\n",
    "            self.play(Indicate(text))\n",
    "        self.wait(2)\n",
    "        \n",
    "        self.play(*[FadeOut(mob, scale=0.5)for mob in self.mobjects], run_time=3)\n",
    "        "
   ]
  },
  {
   "cell_type": "code",
   "execution_count": 91,
   "id": "396e249d",
   "metadata": {},
   "outputs": [
    {
     "name": "stderr",
     "output_type": "stream",
     "text": [
      "                                                                                                                                                       \r"
     ]
    },
    {
     "data": {
      "text/html": [
       "<video src=\"media/jupyter/Slide6@2022-02-07@19-48-22.mp4\" controls autoplay loop style=\"max-width: 100%;\"  >\n",
       "      Your browser does not support the <code>video</code> element.\n",
       "    </video>"
      ],
      "text/plain": [
       "<IPython.core.display.Video object>"
      ]
     },
     "metadata": {},
     "output_type": "display_data"
    }
   ],
   "source": [
    "%%manim -qh -v WARNING Slide6\n",
    "\n",
    "class Slide6(Scene):\n",
    "    \n",
    "    def construct(self):\n",
    "        \n",
    "        title = Title('Fork-plots-based approach')\n",
    "        self.play(Write(title))\n",
    "        \n",
    "        axes = Axes(x_range=[0,5,1], y_range=[0,2,1]).scale(.9)\n",
    "        x_label = axes.get_x_axis_label(label='x, \\\\text{long cell axis}', edge=UR, direction=UR).scale(.8)\n",
    "        y_label = axes.get_y_axis_label(label='p(x)', edge=UR, direction=DR).scale(.8)\n",
    "        \n",
    "        \n",
    "        self.add(axes.next_to(title, DOWN), x_label, y_label)\n",
    "        \n",
    "        mu=2; delta=1\n",
    "        graphs = []\n",
    "        for i in np.linspace(0, delta, 6):\n",
    "            graphs.append(axes.plot(lambda x: np.exp(-(x-mu+i) ** 2/.2) + np.exp(-(x-mu-i) ** 2/.2), x_range=[0, 4], ))\n",
    "\n",
    "        for i in range(len(graphs)-1):\n",
    "            self.play(Transform(graphs[i], graphs[i+1]), run_time=2)\n",
    "        self.wait(2)\n",
    "        \n",
    "        self.play(*[FadeOut(mob, scale=0.5)for mob in self.mobjects], run_time=3)\n",
    "        \n",
    "        \n",
    "        \n",
    "        \n",
    "        "
   ]
  },
  {
   "cell_type": "code",
   "execution_count": 93,
   "id": "77e17ec8",
   "metadata": {
    "scrolled": false
   },
   "outputs": [
    {
     "name": "stderr",
     "output_type": "stream",
     "text": [
      "                                                                                                                                                       \r"
     ]
    },
    {
     "data": {
      "text/html": [
       "<video src=\"media/jupyter/Slide7@2022-02-07@20-00-43.mp4\" controls autoplay loop style=\"max-width: 100%;\"  >\n",
       "      Your browser does not support the <code>video</code> element.\n",
       "    </video>"
      ],
      "text/plain": [
       "<IPython.core.display.Video object>"
      ]
     },
     "metadata": {},
     "output_type": "display_data"
    }
   ],
   "source": [
    "%%manim -v WARNING -qh Slide7\n",
    "\n",
    "class Slide7(Scene):\n",
    "    \n",
    "    \n",
    "    def construct(self):\n",
    "        \n",
    "        title = Title('Sample Distribution')\n",
    "        self.play(Write(title))\n",
    "        \n",
    "        axes = Axes(x_range=[0,5,1], y_range=[0,2,1]).scale(.9).to_edge(DOWN)\n",
    "        x_label = axes.get_x_axis_label(label='x', edge=UR, direction=UR).scale(.8)\n",
    "        y_label = axes.get_y_axis_label(label='p(x)', edge=UR, direction=DR).scale(.8)\n",
    "        \n",
    "        \n",
    "        \n",
    "        mu=2; delta=.6\n",
    "            \n",
    "        def f(x):\n",
    "            return 2*np.exp(-(x-mu+delta) ** 2/.2) + np.exp(-(x-mu-delta) ** 2/.2)\n",
    "    \n",
    "    \n",
    "        graph = axes.plot(f, x_range=[0, 4], color=YELLOW)\n",
    "        self.add(graph, axes, x_label, y_label)\n",
    "        \n",
    "        \n",
    "        counter =  Variable(0, label=Tex(\"№ of points\", color=YELLOW, tex_template=TexFontTemplates.french_cursive),\n",
    "                           var_type=Integer).scale(.8).align_to(title, RIGHT).shift(.5*LEFT)\n",
    "        self.play(Create(counter))\n",
    "        \n",
    "        self.wait(3)\n",
    "\n",
    "        n_samples=500\n",
    "        xo=0\n",
    "        for i in range(n_samples):\n",
    "            counter.tracker.set_value(i+1)\n",
    "            x = 4*np.random.random()\n",
    "            if np.random.random() < f(x)/f(xo):\n",
    "                xo=x\n",
    "            dot = Dot(axes.coords_to_point(xo, 0), fill_opacity=0.1)\n",
    "#             print(dot.get_center(),   axes.coords_to_point([0,0,0]))\n",
    "#             dot = axes.plot(lambda x: 0.1)\n",
    "            self.play(Create(dot), run_time=0.02)\n",
    "#             print(xo, f(xo))\n",
    "        self.wait(3)\n",
    "    \n",
    "        self.play(*[FadeOut(mob, scale=0.5)for mob in self.mobjects], run_time=3)\n",
    "            \n",
    "            "
   ]
  },
  {
   "cell_type": "code",
   "execution_count": null,
   "id": "a8078844",
   "metadata": {},
   "outputs": [],
   "source": [
    "def build_system(self, build_arcs=True):\n",
    "        ellipse = Ellipse(width=3, height=3)\n",
    "        \n",
    "        ori = ellipse.point_at_angle(PI/2)\n",
    "        ter = ellipse.point_at_angle(3*PI/2)\n",
    "        rarm = ellipse.point_at_angle(0)\n",
    "        larm = ellipse.point_at_angle(PI)\n",
    "\n",
    "        ori_text = Tex(\"$Ori$\").next_to(ori, 2*UP)\n",
    "        ter_text = Tex(\"$Ter$\").next_to(ter, 2*DOWN)\n",
    "        la_text = Tex(\"$L_{arm}$\").next_to(larm, 2*LEFT)\n",
    "        ra_text = Tex(\"$R_{arm}$\").next_to(rarm, 2*RIGHT)\n",
    "\n",
    "                \n",
    "        \n",
    "        \n",
    "        arcs = []\n",
    "        dots = []\n",
    "        labels = ['0.5Mb' ,'1Mb', '2.1Mb', '1.1Mb']\n",
    "        angles = [PI/4, -PI/2, -PI, PI/2]\n",
    "        colors = [RED_A, BLUE_A, BLUE_B, RED_B]\n",
    "\n",
    "        for i in range(len(angles)):\n",
    "            arcs.append(\n",
    "                Arc(start_angle=PI/2, angle=angles[i], radius=1.5, color=YELLOW, stroke_width=10)\n",
    "            )\n",
    "            dots.append(\n",
    "            LabeledDot(label=labels[i], fill_color=colors[i]).scale(.4).move_to(arcs[i].get_end())\n",
    "            )\n",
    "        \n",
    "        \n",
    "        pic = VGroup(ellipse, ori_text, ter_text, la_text, ra_text,)\n",
    "\n",
    "        self.add(pic)\n",
    "        \n",
    "\n",
    "        for i in range(len(arcs)):\n",
    "            if build_arcs:\n",
    "                self.play(Create(arcs[i]), FadeIn(dots[i]), run_time=3)\n",
    "    #             self.add(Text(labels[i]).next_to(dots[i], UR, buff=0).scale(.5))\n",
    "                self.play(Uncreate(arcs[i]))\n",
    "            pic.add(dots[i])\n",
    "        \n",
    "        return pic, dots"
   ]
  },
  {
   "cell_type": "code",
   "execution_count": null,
   "id": "29c42fc3",
   "metadata": {},
   "outputs": [],
   "source": [
    "%%manim -v WARNING -qh Slide8\n",
    "\n",
    "\n",
    "\n",
    "    \n",
    "class Slide8(Scene):\n",
    "    \n",
    "    def construct(self):\n",
    "        \n",
    "        \n",
    "        title = Title(\"Experimental Data\")\n",
    "        self.play(Write(title))\n",
    "        \n",
    "        \n",
    "    \n",
    "        pic, dots = build_system(self)\n",
    "        \n",
    "        self.wait(2)\n",
    "        \n",
    "        self.play(pic.animate.scale(.6).next_to(title, DOWN, aligned_edge=LEFT), run_time=3)\n",
    "        \n",
    "        self.wait(2)\n",
    "        \n",
    "        \n",
    "        fig = ImageMobject(\"forkplot11.png\")\n",
    "        \n",
    "        self.play(FadeIn(fig.scale(.9).next_to(title, DOWN, aligned_edge=RIGHT), scale=1.5))\n",
    "        \n",
    "        self.play(dots[0].copy().animate.move_to(fig).shift(UP, LEFT), \n",
    "                  dots[1].copy().animate.move_to(fig).shift(UP, 3*RIGHT),\n",
    "                  dots[2].copy().animate.move_to(fig).shift(DOWN, LEFT),\n",
    "                  dots[3].copy().animate.move_to(fig).shift(DOWN, 3*RIGHT),\n",
    "                  \n",
    "                  run_time=2)\n",
    "        \n",
    "        self.wait(3)\n",
    "        \n",
    "        text =Tex(\"The $x$-coordinate for the beads will be sampled from the distributions above. \"\n",
    "                  \"That is about the other 2 coordinates?\").to_edge(DOWN).scale(.6)\n",
    "        for i in range(3):\n",
    "            self.play(Indicate(text))\n",
    "            \n",
    "        self.wait(3)\n",
    "        self.play(*[FadeOut(mob, scale=0.5)for mob in self.mobjects], run_time=1)"
   ]
  },
  {
   "cell_type": "code",
   "execution_count": null,
   "id": "635e3a06",
   "metadata": {},
   "outputs": [],
   "source": [
    "!ls"
   ]
  },
  {
   "cell_type": "code",
   "execution_count": 94,
   "id": "b515b3e9",
   "metadata": {},
   "outputs": [
    {
     "name": "stderr",
     "output_type": "stream",
     "text": [
      "                                                                                                                                                       \r"
     ]
    },
    {
     "name": "stdout",
     "output_type": "stream",
     "text": [
      "[3.5 1.  0. ]\n"
     ]
    },
    {
     "name": "stderr",
     "output_type": "stream",
     "text": [
      "                                                                                                                                                       \r"
     ]
    },
    {
     "name": "stdout",
     "output_type": "stream",
     "text": [
      "[3.5 1.  0. ]\n"
     ]
    },
    {
     "name": "stderr",
     "output_type": "stream",
     "text": [
      "                                                                                                                                                       \r"
     ]
    },
    {
     "data": {
      "text/html": [
       "<video src=\"media/jupyter/Slide9@2022-02-07@20-24-39.mp4\" controls autoplay loop style=\"max-width: 100%;\"  >\n",
       "      Your browser does not support the <code>video</code> element.\n",
       "    </video>"
      ],
      "text/plain": [
       "<IPython.core.display.Video object>"
      ]
     },
     "metadata": {},
     "output_type": "display_data"
    }
   ],
   "source": [
    "%%manim -v WARNING -qh Slide9\n",
    "\n",
    "class Slide9(Scene):\n",
    "    \n",
    "    def construct(self):\n",
    "        \n",
    "        title = Title('Model')\n",
    "        self.play(Write(title))\n",
    "#         self.remove(title)\n",
    "#         title1 = Title('Model')\n",
    "#         self.add_fixed_in_frame_mobjects(title1)\n",
    "#         self.play(Write(title))\n",
    "    \n",
    "        self.wait(1)\n",
    "        \n",
    "        stretch1 = Tex(r\"\"\"$U_{stretch} = \\sum_{i=1}^{4}\\kappa\\frac{(l_i-l_0)^2}{2},$\"\"\")\n",
    "        \n",
    "        stretch2 = Tex(r\"\"\"\\begin{itemize}\n",
    "\\item $l_i$ -- bond length between beads\n",
    "\\item $\\kappa$ -- stretching constant\n",
    "\\item $l_0$ -- equilibrium length\n",
    "\\end{itemize}\"\"\")\n",
    "        stretch = VGroup(stretch1, stretch2.scale(.7).next_to(stretch1, DOWN, aligned_edge=LEFT))\n",
    "        \n",
    "        self.play(Write(stretch), run_time=2)\n",
    "        self.play(stretch.set_color(YELLOW).animate.scale(.7).next_to(title, DOWN, aligned_edge=LEFT, buff=0.5))\n",
    "        self.play(Write(SurroundingRectangle(stretch, corner_radius=0.1, buff=0.2)))\n",
    "        self.wait(1)\n",
    "        \n",
    "        tracker = ValueTracker(1)\n",
    "        \n",
    "        sine = always_redraw(\n",
    "            lambda: FunctionGraph(lambda t: .3*np.sin(10*t*2*PI/tracker.get_value()), x_range=[0, tracker.get_value()]).move_to(UP+2*RIGHT)\n",
    "        )\n",
    "        circle1 = always_redraw(\n",
    "            lambda: Circle(radius=.5, color=BLUE_B, fill_color=ORANGE, fill_opacity=1).move_to(sine.get_start())\n",
    "        )\n",
    "        circle2 = always_redraw(\n",
    "            lambda:  circle1.copy().move_to(sine.get_end())\n",
    "        )\n",
    "        \n",
    "        \n",
    "                             \n",
    "        self.add(sine, circle1, circle2)\n",
    "        self.play(tracker.animate.set_value(5), run_time=.3)\n",
    "        self.play(tracker.animate.set_value(2), run_time=.4)\n",
    "        self.play(tracker.animate.set_value(4), run_time=.5)\n",
    "        self.play(tracker.animate.set_value(3), run_time=.7)\n",
    "        \n",
    "    \n",
    "        br = Brace(sine, direction=np.array([0., 1., 0.]), sharpness=.5, buff=0.5)\n",
    "        self.add(br)\n",
    "        \n",
    "        text12 = Tex(\"$l_0$\").next_to(br,UP)\n",
    "\n",
    "\n",
    "        for i in range(3):\n",
    "            self.play(Indicate(text12), run_time=1)\n",
    "\n",
    "        print(sine.get_end())\n",
    "        spring = VGroup(sine.copy(), circle1.copy(), circle2.copy(), text12, br)\n",
    "        self.remove(sine, circle1, circle2)\n",
    "        self.play(spring.animate.scale(.6).next_to(title, DOWN, aligned_edge=RIGHT))\n",
    "#         spring = VGroup(sine, circle1, circle2, text12)\n",
    "#         self.add(sine.next_to(text12, DOWN, aligned_edge=RIGHT))\n",
    "        print(sine.get_end())\n",
    "        \n",
    "        \n",
    "        distr1 = Tex(r\"\"\"$U_{distr} = \\sum_{i=1}^{4} [-p_i(x_j)],$\"\"\")\n",
    "        distr2 = Tex(r\"\"\"\\begin{itemize}\n",
    "\\item $p_i$ -- distribution along the $x$-axis \n",
    "\\item $x_j$ is the selected \"box\"  from $p_j$\n",
    "\\end{itemize}\"\"\")\n",
    "        distr = VGroup(distr1, distr2.scale(.7).next_to(distr1, DOWN, aligned_edge=LEFT))\n",
    "        self.play(Write(distr), run_time=2)\n",
    "\n",
    "        self.play(distr.set_color(YELLOW).animate.scale(.7).next_to(stretch, 2*DOWN, aligned_edge=LEFT))\n",
    "        self.play(Write(SurroundingRectangle(distr, corner_radius=0.1, buff=0.2)))\n",
    "\n",
    "\n",
    "#         pic, dots = build_system(self, build_arcs=False)\n",
    "        fig = ImageMobject(\"forkplot11.png\").scale(.7).to_edge(DOWN).align_to(title, RIGHT)\n",
    "        self.play(SpinInFromNothing(fig, angle=4*PI), run_time=3)\n",
    "        \n",
    "        marker1 = LabeledDot(\"i=1\", color=WHITE, fill_color=ORANGE, fill_opacity=0.6 ).scale(.4)\n",
    "        marker2 = LabeledDot(\"i=2\", fill_color=ORANGE, fill_opacity=0.6 ).scale(.4)\n",
    "        marker3 = LabeledDot(\"i=3\", fill_color=ORANGE, fill_opacity=0.6 ).scale(.4)\n",
    "        marker4 = LabeledDot(\"i=4\", fill_color=ORANGE, fill_opacity=0.6 ).scale(.4)\n",
    "\n",
    "        a = 1.0\n",
    "        self.play(marker1.animate.move_to(fig).shift(a*UP+a*LEFT),\n",
    "                  marker2.animate.move_to(fig).shift(a*UP+a*RIGHT),\n",
    "                  marker3.animate.move_to(fig).shift(a*DOWN+a*LEFT),\n",
    "                  marker4.animate.move_to(fig).shift(a*DOWN+a*RIGHT)\n",
    "                 )\n",
    "        \n",
    "        self.wait(2)\n",
    "        \n",
    "        \n",
    "        utot = Tex(r\"\"\"$U_{tot} = U_{stretch} + U_{distr}$\"\"\").to_edge(DL)\n",
    "        self.play(Write(utot), run_time=2)\n",
    "        self.play(utot.set_color(YELLOW).animate.scale(.7).next_to(distr, 4*DOWN, aligned_edge=LEFT))\n",
    "        self.play(Write(SurroundingRectangle(utot, corner_radius=0.1, buff=0.2)))\n",
    "        self.wait(3)\n",
    "\n",
    "        self.play(*[FadeOut(mob, scale=0.5)for mob in self.mobjects], run_time=3)\n",
    "        \n",
    "        "
   ]
  },
  {
   "cell_type": "code",
   "execution_count": null,
   "id": "3a6edf5b",
   "metadata": {
    "scrolled": false
   },
   "outputs": [],
   "source": [
    "%%manim -v WARNING -qh Slide10\n",
    "\n",
    "prefix = \"/Users/alexey/Downloads/togif/\"\n",
    "figs = [os.path.join(prefix,f) for f in os.listdir(prefix) if f.endswith('png')]\n",
    "print(len(figs))\n",
    "\n",
    "class Slide10(Scene):\n",
    "    \n",
    "    def construct(self):\n",
    "        \n",
    "        title = Title('Animation')\n",
    "        self.play(Write(title))\n",
    "        \n",
    "        l_figs = len(figs)\n",
    "        for i, fig in enumerate(figs):\n",
    "            fig = ImageMobject(fig)\n",
    "            if i%10 == 0: print(i)\n",
    "        \n",
    "            self.add(fig.scale(.8).to_edge(DOWN, buff=.1))\n",
    "            self.wait(.2)\n",
    "            if i < l_figs:\n",
    "                self.remove(fig)\n",
    "\n",
    "        self.wait(2)\n",
    "        \n",
    "        self.play(*[FadeOut(mob, scale=0.5)for mob in self.mobjects], run_time=1)\n"
   ]
  },
  {
   "cell_type": "code",
   "execution_count": 109,
   "id": "48570407",
   "metadata": {},
   "outputs": [
    {
     "name": "stderr",
     "output_type": "stream",
     "text": [
      "                                                                                                                                                       \r"
     ]
    },
    {
     "data": {
      "text/html": [
       "<video src=\"media/jupyter/Outro@2022-02-07@20-35-05.mp4\" controls autoplay loop style=\"max-width: 100%;\"  >\n",
       "      Your browser does not support the <code>video</code> element.\n",
       "    </video>"
      ],
      "text/plain": [
       "<IPython.core.display.Video object>"
      ]
     },
     "metadata": {},
     "output_type": "display_data"
    }
   ],
   "source": [
    "%%manim -v WARNING -qh Outro\n",
    "\n",
    "\n",
    "class Outro(Scene):\n",
    "    \n",
    "    def construct(self):\n",
    "        \n",
    "        text1 = Text('What is larger?')\n",
    "        self.play(Write(text1))\n",
    "        text = Tex(r\"$2^{222}$\", \" or \"  ,r\"$22^{22}$\", \" or \" ,r\"$222^2$\", font_size=80)\n",
    "        self.add(text.next_to(text1, DOWN))\n",
    "        self.wait(3)\n",
    "        \n",
    "       # self.play(*[FadeOut(mob, scale=0.5)for mob in self.mobjects], run_time=1)\n",
    "\n"
   ]
  },
  {
   "cell_type": "code",
   "execution_count": null,
   "id": "48dac646",
   "metadata": {},
   "outputs": [],
   "source": []
  }
 ],
 "metadata": {
  "kernelspec": {
   "display_name": "Python 3 (ipykernel)",
   "language": "python",
   "name": "python3"
  },
  "language_info": {
   "codemirror_mode": {
    "name": "ipython",
    "version": 3
   },
   "file_extension": ".py",
   "mimetype": "text/x-python",
   "name": "python",
   "nbconvert_exporter": "python",
   "pygments_lexer": "ipython3",
   "version": "3.9.10"
  }
 },
 "nbformat": 4,
 "nbformat_minor": 5
}
